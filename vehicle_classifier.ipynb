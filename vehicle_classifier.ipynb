{
  "nbformat": 4,
  "nbformat_minor": 0,
  "metadata": {
    "colab": {
      "provenance": [],
      "gpuType": "T4",
      "authorship_tag": "ABX9TyOfE5nZuQUPAJhp0UrcPRye",
      "include_colab_link": true
    },
    "kernelspec": {
      "name": "python3",
      "display_name": "Python 3"
    },
    "language_info": {
      "name": "python"
    },
    "accelerator": "GPU"
  },
  "cells": [
    {
      "cell_type": "markdown",
      "metadata": {
        "id": "view-in-github",
        "colab_type": "text"
      },
      "source": [
        "<a href=\"https://colab.research.google.com/github/Darkblazer21/vehicle_classifier/blob/dev/vehicle_classifier.ipynb\" target=\"_parent\"><img src=\"https://colab.research.google.com/assets/colab-badge.svg\" alt=\"Open In Colab\"/></a>"
      ]
    },
    {
      "cell_type": "markdown",
      "source": [
        "# Building A Vehicle Classifier Using Fastai"
      ],
      "metadata": {
        "id": "e4p8gnFpCQHF"
      }
    },
    {
      "cell_type": "markdown",
      "source": [
        "### By Brems Mbodj"
      ],
      "metadata": {
        "id": "vIqfQkThChdn"
      }
    },
    {
      "cell_type": "markdown",
      "source": [
        "Let's start by installing Fastai In Our Colab Notebook"
      ],
      "metadata": {
        "id": "q2V2xZLVCb6h"
      }
    },
    {
      "cell_type": "code",
      "execution_count": 2,
      "metadata": {
        "id": "tTUw8kRvCHeE"
      },
      "outputs": [],
      "source": [
        "!pip install -Uqq fastbook"
      ]
    },
    {
      "cell_type": "markdown",
      "source": [
        "# Importing the fastai vision library"
      ],
      "metadata": {
        "id": "j4FfiMVyEvjV"
      }
    },
    {
      "cell_type": "markdown",
      "source": [
        "This allows to get all relevant functions and classes for our image classification tasks"
      ],
      "metadata": {
        "id": "j8Bt5m9gE2wa"
      }
    },
    {
      "cell_type": "code",
      "source": [
        "from fastai.vision.all import *"
      ],
      "metadata": {
        "id": "U_kgivgwEMgn"
      },
      "execution_count": 3,
      "outputs": []
    },
    {
      "cell_type": "markdown",
      "source": [
        "# Gathering the data"
      ],
      "metadata": {
        "id": "kdbKhvZvHjt1"
      }
    },
    {
      "cell_type": "markdown",
      "source": [
        "Let's now gather some data. Our different image classes are:\n",
        "- car\n",
        "- motorcycle\n",
        "- truck\n",
        "- bus\n",
        "- bike\n",
        "- train\n",
        "- scooter"
      ],
      "metadata": {
        "id": "vHJ4j1q1E_QE"
      }
    },
    {
      "cell_type": "markdown",
      "source": [
        "To download images we'll have to install `jmd_imagescraper` library which will let's gather images using the `duck duck go` search api"
      ],
      "metadata": {
        "id": "9jD4BaKFTsmQ"
      }
    },
    {
      "cell_type": "code",
      "source": [
        "!pip install -q jmd_imagescraper"
      ],
      "metadata": {
        "id": "K2DMwEv9SOOA"
      },
      "execution_count": 17,
      "outputs": []
    },
    {
      "cell_type": "markdown",
      "source": [
        "Let's now import all the relevant libraries in order to successfully download images using the `jmd_imagescraper`"
      ],
      "metadata": {
        "id": "o6JhTf8AUNTC"
      }
    },
    {
      "cell_type": "code",
      "source": [
        "from pathlib import Path\n",
        "from jmd_imagescraper.core import *"
      ],
      "metadata": {
        "id": "ZdtN9xxiUJAX"
      },
      "execution_count": 19,
      "outputs": []
    },
    {
      "cell_type": "code",
      "source": [
        "root = Path().cwd()/\"images\" # We instantiate the Path object for our images"
      ],
      "metadata": {
        "id": "y2eDYbFfUjQi"
      },
      "execution_count": 20,
      "outputs": []
    },
    {
      "cell_type": "code",
      "source": [],
      "metadata": {
        "id": "0fWyr0IXUtZz"
      },
      "execution_count": null,
      "outputs": []
    }
  ]
}